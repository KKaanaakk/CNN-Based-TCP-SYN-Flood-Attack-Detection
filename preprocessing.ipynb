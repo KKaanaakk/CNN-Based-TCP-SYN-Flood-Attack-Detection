{
 "cells": [
  {
   "cell_type": "code",
   "execution_count": 1,
   "metadata": {},
   "outputs": [],
   "source": [
    "import pandas as pd\n"
   ]
  },
  {
   "cell_type": "code",
   "execution_count": 2,
   "metadata": {},
   "outputs": [
    {
     "name": "stderr",
     "output_type": "stream",
     "text": [
      "C:\\Users\\Chaitali\\AppData\\Local\\Temp\\ipykernel_27780\\1830182920.py:1: DtypeWarning: Columns (85) have mixed types. Specify dtype option on import or set low_memory=False.\n",
      "  merged_benign_syn_df = pd.read_csv('merged_benign_syn_new.csv')\n"
     ]
    }
   ],
   "source": [
    "\n",
    "merged_benign_syn_df = pd.read_csv('merged_benign_syn_new.csv')\n"
   ]
  },
  {
   "cell_type": "code",
   "execution_count": 3,
   "metadata": {},
   "outputs": [
    {
     "name": "stdout",
     "output_type": "stream",
     "text": [
      "Dataset Information:\n",
      "<class 'pandas.core.frame.DataFrame'>\n",
      "RangeIndex: 111299 entries, 0 to 111298\n",
      "Data columns (total 88 columns):\n",
      " #   Column                        Non-Null Count   Dtype  \n",
      "---  ------                        --------------   -----  \n",
      " 0   Unnamed: 0                    111299 non-null  int64  \n",
      " 1   Flow ID                       111299 non-null  object \n",
      " 2    Source IP                    111299 non-null  object \n",
      " 3    Source Port                  111299 non-null  int64  \n",
      " 4    Destination IP               111299 non-null  object \n",
      " 5    Destination Port             111299 non-null  int64  \n",
      " 6    Protocol                     111299 non-null  int64  \n",
      " 7    Timestamp                    111299 non-null  object \n",
      " 8    Flow Duration                111299 non-null  int64  \n",
      " 9    Total Fwd Packets            111299 non-null  int64  \n",
      " 10   Total Backward Packets       111299 non-null  int64  \n",
      " 11  Total Length of Fwd Packets   111299 non-null  float64\n",
      " 12   Total Length of Bwd Packets  111299 non-null  float64\n",
      " 13   Fwd Packet Length Max        111299 non-null  float64\n",
      " 14   Fwd Packet Length Min        111299 non-null  float64\n",
      " 15   Fwd Packet Length Mean       111299 non-null  float64\n",
      " 16   Fwd Packet Length Std        111299 non-null  float64\n",
      " 17  Bwd Packet Length Max         111299 non-null  float64\n",
      " 18   Bwd Packet Length Min        111299 non-null  float64\n",
      " 19   Bwd Packet Length Mean       111299 non-null  float64\n",
      " 20   Bwd Packet Length Std        111299 non-null  float64\n",
      " 21  Flow Bytes/s                  111256 non-null  float64\n",
      " 22   Flow Packets/s               111299 non-null  float64\n",
      " 23   Flow IAT Mean                111299 non-null  float64\n",
      " 24   Flow IAT Std                 111299 non-null  float64\n",
      " 25   Flow IAT Max                 111299 non-null  float64\n",
      " 26   Flow IAT Min                 111299 non-null  float64\n",
      " 27  Fwd IAT Total                 111299 non-null  float64\n",
      " 28   Fwd IAT Mean                 111299 non-null  float64\n",
      " 29   Fwd IAT Std                  111299 non-null  float64\n",
      " 30   Fwd IAT Max                  111299 non-null  float64\n",
      " 31   Fwd IAT Min                  111299 non-null  float64\n",
      " 32  Bwd IAT Total                 111299 non-null  float64\n",
      " 33   Bwd IAT Mean                 111299 non-null  float64\n",
      " 34   Bwd IAT Std                  111299 non-null  float64\n",
      " 35   Bwd IAT Max                  111299 non-null  float64\n",
      " 36   Bwd IAT Min                  111299 non-null  float64\n",
      " 37  Fwd PSH Flags                 111299 non-null  int64  \n",
      " 38   Bwd PSH Flags                111299 non-null  int64  \n",
      " 39   Fwd URG Flags                111299 non-null  int64  \n",
      " 40   Bwd URG Flags                111299 non-null  int64  \n",
      " 41   Fwd Header Length            111299 non-null  int64  \n",
      " 42   Bwd Header Length            111299 non-null  int64  \n",
      " 43  Fwd Packets/s                 111299 non-null  float64\n",
      " 44   Bwd Packets/s                111299 non-null  float64\n",
      " 45   Min Packet Length            111299 non-null  float64\n",
      " 46   Max Packet Length            111299 non-null  float64\n",
      " 47   Packet Length Mean           111299 non-null  float64\n",
      " 48   Packet Length Std            111299 non-null  float64\n",
      " 49   Packet Length Variance       111299 non-null  float64\n",
      " 50  FIN Flag Count                111299 non-null  int64  \n",
      " 51   SYN Flag Count               111299 non-null  int64  \n",
      " 52   RST Flag Count               111299 non-null  int64  \n",
      " 53   PSH Flag Count               111299 non-null  int64  \n",
      " 54   ACK Flag Count               111299 non-null  int64  \n",
      " 55   URG Flag Count               111299 non-null  int64  \n",
      " 56   CWE Flag Count               111299 non-null  int64  \n",
      " 57   ECE Flag Count               111299 non-null  int64  \n",
      " 58   Down/Up Ratio                111299 non-null  float64\n",
      " 59   Average Packet Size          111299 non-null  float64\n",
      " 60   Avg Fwd Segment Size         111299 non-null  float64\n",
      " 61   Avg Bwd Segment Size         111299 non-null  float64\n",
      " 62   Fwd Header Length.1          111299 non-null  int64  \n",
      " 63  Fwd Avg Bytes/Bulk            111299 non-null  int64  \n",
      " 64   Fwd Avg Packets/Bulk         111299 non-null  int64  \n",
      " 65   Fwd Avg Bulk Rate            111299 non-null  int64  \n",
      " 66   Bwd Avg Bytes/Bulk           111299 non-null  int64  \n",
      " 67   Bwd Avg Packets/Bulk         111299 non-null  int64  \n",
      " 68  Bwd Avg Bulk Rate             111299 non-null  int64  \n",
      " 69  Subflow Fwd Packets           111299 non-null  int64  \n",
      " 70   Subflow Fwd Bytes            111299 non-null  int64  \n",
      " 71   Subflow Bwd Packets          111299 non-null  int64  \n",
      " 72   Subflow Bwd Bytes            111299 non-null  int64  \n",
      " 73  Init_Win_bytes_forward        111299 non-null  int64  \n",
      " 74   Init_Win_bytes_backward      111299 non-null  int64  \n",
      " 75   act_data_pkt_fwd             111299 non-null  int64  \n",
      " 76   min_seg_size_forward         111299 non-null  int64  \n",
      " 77  Active Mean                   111299 non-null  float64\n",
      " 78   Active Std                   111299 non-null  float64\n",
      " 79   Active Max                   111299 non-null  float64\n",
      " 80   Active Min                   111299 non-null  float64\n",
      " 81  Idle Mean                     111299 non-null  float64\n",
      " 82   Idle Std                     111299 non-null  float64\n",
      " 83   Idle Max                     111299 non-null  float64\n",
      " 84   Idle Min                     111299 non-null  float64\n",
      " 85  SimillarHTTP                  111299 non-null  object \n",
      " 86   Inbound                      111299 non-null  int64  \n",
      " 87   Label                        111299 non-null  object \n",
      "dtypes: float64(45), int64(37), object(6)\n",
      "memory usage: 74.7+ MB\n",
      "None\n",
      "Dataset Information:\n",
      "          Unnamed: 0    Source Port   Destination Port       Protocol  \\\n",
      "count  111299.000000  111299.000000      111299.000000  111299.000000   \n",
      "mean   178833.943270   40118.018158       21794.681399       7.523994   \n",
      "std    199850.679477   21492.055854       23089.872445       3.923131   \n",
      "min         0.000000       0.000000           0.000000       0.000000   \n",
      "25%      7346.000000   22947.500000         443.000000       6.000000   \n",
      "50%     91915.000000   48838.000000       12926.000000       6.000000   \n",
      "75%    332692.500000   58059.000000       43774.000000       6.000000   \n",
      "max    670615.000000   65534.000000       65528.000000      17.000000   \n",
      "\n",
      "        Flow Duration   Total Fwd Packets   Total Backward Packets  \\\n",
      "count    1.112990e+05       111299.000000            111299.000000   \n",
      "mean     8.980084e+06            6.310461                 5.700563   \n",
      "std      2.644804e+07           68.686567               107.909284   \n",
      "min      0.000000e+00            1.000000                 0.000000   \n",
      "25%      1.000000e+00            2.000000                 0.000000   \n",
      "50%      1.050000e+02            2.000000                 2.000000   \n",
      "75%      4.121800e+04            2.000000                 2.000000   \n",
      "max      1.199975e+08        20444.000000             31700.000000   \n",
      "\n",
      "       Total Length of Fwd Packets   Total Length of Bwd Packets  \\\n",
      "count                111299.000000                  1.112990e+05   \n",
      "mean                    448.449447                  4.124662e+03   \n",
      "std                    2950.530143                  1.934072e+05   \n",
      "min                       0.000000                  0.000000e+00   \n",
      "25%                      12.000000                  0.000000e+00   \n",
      "50%                      12.000000                  6.000000e+00   \n",
      "75%                      64.000000                  3.600000e+01   \n",
      "max                  208524.000000                  5.842950e+07   \n",
      "\n",
      "        Fwd Packet Length Max  ...   min_seg_size_forward   Active Mean  \\\n",
      "count           111299.000000  ...           1.112990e+05  1.112990e+05   \n",
      "mean                87.161214  ...          -2.799836e+05  5.822655e+04   \n",
      "std                312.425327  ...           1.737422e+07  4.513210e+05   \n",
      "min                  0.000000  ...          -1.408238e+09  0.000000e+00   \n",
      "25%                  6.000000  ...           2.000000e+01  0.000000e+00   \n",
      "50%                  6.000000  ...           2.000000e+01  0.000000e+00   \n",
      "75%                 31.000000  ...           2.000000e+01  0.000000e+00   \n",
      "max               3625.000000  ...           1.480000e+03  4.050800e+07   \n",
      "\n",
      "         Active Std    Active Max    Active Min     Idle Mean      Idle Std  \\\n",
      "count  1.112990e+05  1.112990e+05  1.112990e+05  1.112990e+05  1.112990e+05   \n",
      "mean   3.310537e+04  1.018551e+05  3.840940e+04  2.993433e+06  4.034073e+05   \n",
      "std    2.620284e+05  6.602052e+05  4.053001e+05  1.036539e+07  2.233109e+06   \n",
      "min    0.000000e+00  0.000000e+00  0.000000e+00  0.000000e+00  0.000000e+00   \n",
      "25%    0.000000e+00  0.000000e+00  0.000000e+00  0.000000e+00  0.000000e+00   \n",
      "50%    0.000000e+00  0.000000e+00  0.000000e+00  0.000000e+00  0.000000e+00   \n",
      "75%    0.000000e+00  0.000000e+00  0.000000e+00  0.000000e+00  0.000000e+00   \n",
      "max    1.063756e+07  4.050800e+07  4.050800e+07  1.175692e+08  6.961402e+07   \n",
      "\n",
      "           Idle Max      Idle Min        Inbound  \n",
      "count  1.112990e+05  1.112990e+05  111299.000000  \n",
      "mean   3.400512e+06  2.631717e+06       0.601488  \n",
      "std    1.124696e+07  9.895238e+06       0.489594  \n",
      "min    0.000000e+00  0.000000e+00       0.000000  \n",
      "25%    0.000000e+00  0.000000e+00       0.000000  \n",
      "50%    0.000000e+00  0.000000e+00       1.000000  \n",
      "75%    0.000000e+00  0.000000e+00       1.000000  \n",
      "max    1.175692e+08  1.175692e+08       1.000000  \n",
      "\n",
      "[8 rows x 82 columns]\n"
     ]
    }
   ],
   "source": [
    "\n",
    "# Data Understanding\n",
    "print(\"Dataset Information:\")\n",
    "print(merged_benign_syn_df.info())\n",
    "\n",
    "# Data Understanding\n",
    "print(\"Dataset Information:\")\n",
    "print(merged_benign_syn_df.describe())\n"
   ]
  },
  {
   "cell_type": "code",
   "execution_count": 4,
   "metadata": {},
   "outputs": [
    {
     "name": "stdout",
     "output_type": "stream",
     "text": [
      "Number of duplicate rows: 4478\n"
     ]
    }
   ],
   "source": [
    "\n",
    "# Drop unnecessary columns\n",
    "merged_benign_syn_df = merged_benign_syn_df.drop(columns=['Unnamed: 0'])\n",
    "\n",
    "df = merged_benign_syn_df\n",
    "\n",
    "# Check for duplicates\n",
    "print(\"Number of duplicate rows:\", df.duplicated().sum())\n"
   ]
  },
  {
   "cell_type": "code",
   "execution_count": 5,
   "metadata": {},
   "outputs": [],
   "source": [
    "\n",
    "# Remove duplicates if any\n",
    "df = df.drop_duplicates()\n"
   ]
  },
  {
   "cell_type": "code",
   "execution_count": 6,
   "metadata": {},
   "outputs": [
    {
     "name": "stdout",
     "output_type": "stream",
     "text": [
      "Missing values in each column:\n",
      " Flow ID              0\n",
      " Source IP           0\n",
      " Source Port         0\n",
      " Destination IP      0\n",
      " Destination Port    0\n",
      "                    ..\n",
      " Idle Max            0\n",
      " Idle Min            0\n",
      "SimillarHTTP         0\n",
      " Inbound             0\n",
      " Label               0\n",
      "Length: 87, dtype: int64\n"
     ]
    }
   ],
   "source": [
    "\n",
    "# Check for missing values\n",
    "print(\"Missing values in each column:\\n\", df.isnull().sum())\n"
   ]
  },
  {
   "cell_type": "code",
   "execution_count": 7,
   "metadata": {},
   "outputs": [
    {
     "name": "stdout",
     "output_type": "stream",
     "text": [
      "Data types of columns:\n",
      "Flow ID               object\n",
      " Source IP            object\n",
      " Source Port           int64\n",
      " Destination IP       object\n",
      " Destination Port      int64\n",
      "                      ...   \n",
      " Idle Max            float64\n",
      " Idle Min            float64\n",
      "SimillarHTTP          object\n",
      " Inbound               int64\n",
      " Label                object\n",
      "Length: 87, dtype: object\n"
     ]
    }
   ],
   "source": [
    "\n",
    "# Check data types of columns\n",
    "data_types = df.dtypes\n",
    "print(\"Data types of columns:\")\n",
    "print(data_types)\n"
   ]
  },
  {
   "cell_type": "code",
   "execution_count": 8,
   "metadata": {},
   "outputs": [
    {
     "name": "stdout",
     "output_type": "stream",
     "text": [
      "<class 'pandas.core.frame.DataFrame'>\n",
      "Index: 106821 entries, 0 to 111298\n",
      "Data columns (total 87 columns):\n",
      " #   Column                        Non-Null Count   Dtype  \n",
      "---  ------                        --------------   -----  \n",
      " 0   Flow ID                       106821 non-null  object \n",
      " 1    Source IP                    106821 non-null  object \n",
      " 2    Source Port                  106821 non-null  int64  \n",
      " 3    Destination IP               106821 non-null  object \n",
      " 4    Destination Port             106821 non-null  int64  \n",
      " 5    Protocol                     106821 non-null  int64  \n",
      " 6    Timestamp                    106821 non-null  object \n",
      " 7    Flow Duration                106821 non-null  int64  \n",
      " 8    Total Fwd Packets            106821 non-null  int64  \n",
      " 9    Total Backward Packets       106821 non-null  int64  \n",
      " 10  Total Length of Fwd Packets   106821 non-null  float64\n",
      " 11   Total Length of Bwd Packets  106821 non-null  float64\n",
      " 12   Fwd Packet Length Max        106821 non-null  float64\n",
      " 13   Fwd Packet Length Min        106821 non-null  float64\n",
      " 14   Fwd Packet Length Mean       106821 non-null  float64\n",
      " 15   Fwd Packet Length Std        106821 non-null  float64\n",
      " 16  Bwd Packet Length Max         106821 non-null  float64\n",
      " 17   Bwd Packet Length Min        106821 non-null  float64\n",
      " 18   Bwd Packet Length Mean       106821 non-null  float64\n",
      " 19   Bwd Packet Length Std        106821 non-null  float64\n",
      " 20  Flow Bytes/s                  106780 non-null  float64\n",
      " 21   Flow Packets/s               106821 non-null  float64\n",
      " 22   Flow IAT Mean                106821 non-null  float64\n",
      " 23   Flow IAT Std                 106821 non-null  float64\n",
      " 24   Flow IAT Max                 106821 non-null  float64\n",
      " 25   Flow IAT Min                 106821 non-null  float64\n",
      " 26  Fwd IAT Total                 106821 non-null  float64\n",
      " 27   Fwd IAT Mean                 106821 non-null  float64\n",
      " 28   Fwd IAT Std                  106821 non-null  float64\n",
      " 29   Fwd IAT Max                  106821 non-null  float64\n",
      " 30   Fwd IAT Min                  106821 non-null  float64\n",
      " 31  Bwd IAT Total                 106821 non-null  float64\n",
      " 32   Bwd IAT Mean                 106821 non-null  float64\n",
      " 33   Bwd IAT Std                  106821 non-null  float64\n",
      " 34   Bwd IAT Max                  106821 non-null  float64\n",
      " 35   Bwd IAT Min                  106821 non-null  float64\n",
      " 36  Fwd PSH Flags                 106821 non-null  int64  \n",
      " 37   Bwd PSH Flags                106821 non-null  int64  \n",
      " 38   Fwd URG Flags                106821 non-null  int64  \n",
      " 39   Bwd URG Flags                106821 non-null  int64  \n",
      " 40   Fwd Header Length            106821 non-null  int64  \n",
      " 41   Bwd Header Length            106821 non-null  int64  \n",
      " 42  Fwd Packets/s                 106821 non-null  float64\n",
      " 43   Bwd Packets/s                106821 non-null  float64\n",
      " 44   Min Packet Length            106821 non-null  float64\n",
      " 45   Max Packet Length            106821 non-null  float64\n",
      " 46   Packet Length Mean           106821 non-null  float64\n",
      " 47   Packet Length Std            106821 non-null  float64\n",
      " 48   Packet Length Variance       106821 non-null  float64\n",
      " 49  FIN Flag Count                106821 non-null  int64  \n",
      " 50   SYN Flag Count               106821 non-null  int64  \n",
      " 51   RST Flag Count               106821 non-null  int64  \n",
      " 52   PSH Flag Count               106821 non-null  int64  \n",
      " 53   ACK Flag Count               106821 non-null  int64  \n",
      " 54   URG Flag Count               106821 non-null  int64  \n",
      " 55   CWE Flag Count               106821 non-null  int64  \n",
      " 56   ECE Flag Count               106821 non-null  int64  \n",
      " 57   Down/Up Ratio                106821 non-null  float64\n",
      " 58   Average Packet Size          106821 non-null  float64\n",
      " 59   Avg Fwd Segment Size         106821 non-null  float64\n",
      " 60   Avg Bwd Segment Size         106821 non-null  float64\n",
      " 61   Fwd Header Length.1          106821 non-null  int64  \n",
      " 62  Fwd Avg Bytes/Bulk            106821 non-null  int64  \n",
      " 63   Fwd Avg Packets/Bulk         106821 non-null  int64  \n",
      " 64   Fwd Avg Bulk Rate            106821 non-null  int64  \n",
      " 65   Bwd Avg Bytes/Bulk           106821 non-null  int64  \n",
      " 66   Bwd Avg Packets/Bulk         106821 non-null  int64  \n",
      " 67  Bwd Avg Bulk Rate             106821 non-null  int64  \n",
      " 68  Subflow Fwd Packets           106821 non-null  int64  \n",
      " 69   Subflow Fwd Bytes            106821 non-null  int64  \n",
      " 70   Subflow Bwd Packets          106821 non-null  int64  \n",
      " 71   Subflow Bwd Bytes            106821 non-null  int64  \n",
      " 72  Init_Win_bytes_forward        106821 non-null  int64  \n",
      " 73   Init_Win_bytes_backward      106821 non-null  int64  \n",
      " 74   act_data_pkt_fwd             106821 non-null  int64  \n",
      " 75   min_seg_size_forward         106821 non-null  int64  \n",
      " 76  Active Mean                   106821 non-null  float64\n",
      " 77   Active Std                   106821 non-null  float64\n",
      " 78   Active Max                   106821 non-null  float64\n",
      " 79   Active Min                   106821 non-null  float64\n",
      " 80  Idle Mean                     106821 non-null  float64\n",
      " 81   Idle Std                     106821 non-null  float64\n",
      " 82   Idle Max                     106821 non-null  float64\n",
      " 83   Idle Min                     106821 non-null  float64\n",
      " 84  SimillarHTTP                  106821 non-null  object \n",
      " 85   Inbound                      106821 non-null  int64  \n",
      " 86   Label                        106821 non-null  object \n",
      "dtypes: float64(45), int64(36), object(6)\n",
      "memory usage: 71.7+ MB\n",
      "None\n"
     ]
    }
   ],
   "source": [
    "\n",
    "\n",
    "\n",
    "print(df.info())\n"
   ]
  },
  {
   "cell_type": "code",
   "execution_count": 9,
   "metadata": {},
   "outputs": [
    {
     "name": "stdout",
     "output_type": "stream",
     "text": [
      "Index(['Flow ID', ' Source IP', ' Destination IP', ' Timestamp',\n",
      "       'SimillarHTTP', ' Label'],\n",
      "      dtype='object')\n"
     ]
    }
   ],
   "source": [
    "\n",
    "\n",
    "\n",
    "categorical_cols = df.select_dtypes(include=['object']).columns\n",
    "print(categorical_cols)\n"
   ]
  },
  {
   "cell_type": "code",
   "execution_count": 10,
   "metadata": {},
   "outputs": [
    {
     "name": "stderr",
     "output_type": "stream",
     "text": [
      "C:\\Users\\Chaitali\\AppData\\Local\\Temp\\ipykernel_27780\\291669736.py:11: SettingWithCopyWarning: \n",
      "A value is trying to be set on a copy of a slice from a DataFrame.\n",
      "Try using .loc[row_indexer,col_indexer] = value instead\n",
      "\n",
      "See the caveats in the documentation: https://pandas.pydata.org/pandas-docs/stable/user_guide/indexing.html#returning-a-view-versus-a-copy\n",
      "  df[' Source IP'] = df[' Source IP'].apply(ip_to_int)\n",
      "C:\\Users\\Chaitali\\AppData\\Local\\Temp\\ipykernel_27780\\291669736.py:12: SettingWithCopyWarning: \n",
      "A value is trying to be set on a copy of a slice from a DataFrame.\n",
      "Try using .loc[row_indexer,col_indexer] = value instead\n",
      "\n",
      "See the caveats in the documentation: https://pandas.pydata.org/pandas-docs/stable/user_guide/indexing.html#returning-a-view-versus-a-copy\n",
      "  df[' Destination IP'] = df[' Destination IP'].apply(ip_to_int)\n"
     ]
    }
   ],
   "source": [
    "\n",
    "\n",
    "import ipaddress\n",
    "\n",
    "# Function to convert IP address to integer\n",
    "def ip_to_int(ip):\n",
    "    try:\n",
    "        return int(ipaddress.ip_address(ip))\n",
    "    except ValueError:\n",
    "        return None\n",
    "\n",
    "# Convert ' Source IP' and ' Destination IP' to integer\n",
    "df[' Source IP'] = df[' Source IP'].apply(ip_to_int)\n",
    "df[' Destination IP'] = df[' Destination IP'].apply(ip_to_int)\n"
   ]
  },
  {
   "cell_type": "code",
   "execution_count": 11,
   "metadata": {},
   "outputs": [
    {
     "name": "stdout",
     "output_type": "stream",
     "text": [
      "Current data types of columns:\n",
      "Flow ID               object\n",
      " Source IP             int64\n",
      " Source Port           int64\n",
      " Destination IP        int64\n",
      " Destination Port      int64\n",
      "                      ...   \n",
      " Idle Max            float64\n",
      " Idle Min            float64\n",
      "SimillarHTTP          object\n",
      " Inbound               int64\n",
      " Label                object\n",
      "Length: 87, dtype: object\n",
      "[' Source IP', ' Source Port', ' Destination IP', ' Destination Port', ' Protocol', ' Flow Duration', ' Total Fwd Packets', ' Total Backward Packets', 'Total Length of Fwd Packets', ' Total Length of Bwd Packets', ' Fwd Packet Length Max', ' Fwd Packet Length Min', ' Fwd Packet Length Mean', ' Fwd Packet Length Std', 'Bwd Packet Length Max', ' Bwd Packet Length Min', ' Bwd Packet Length Mean', ' Bwd Packet Length Std', 'Flow Bytes/s', ' Flow Packets/s', ' Flow IAT Mean', ' Flow IAT Std', ' Flow IAT Max', ' Flow IAT Min', 'Fwd IAT Total', ' Fwd IAT Mean', ' Fwd IAT Std', ' Fwd IAT Max', ' Fwd IAT Min', 'Bwd IAT Total', ' Bwd IAT Mean', ' Bwd IAT Std', ' Bwd IAT Max', ' Bwd IAT Min', 'Fwd PSH Flags', ' Bwd PSH Flags', ' Fwd URG Flags', ' Bwd URG Flags', ' Fwd Header Length', ' Bwd Header Length', 'Fwd Packets/s', ' Bwd Packets/s', ' Min Packet Length', ' Max Packet Length', ' Packet Length Mean', ' Packet Length Std', ' Packet Length Variance', 'FIN Flag Count', ' SYN Flag Count', ' RST Flag Count', ' PSH Flag Count', ' ACK Flag Count', ' URG Flag Count', ' CWE Flag Count', ' ECE Flag Count', ' Down/Up Ratio', ' Average Packet Size', ' Avg Fwd Segment Size', ' Avg Bwd Segment Size', ' Fwd Header Length.1', 'Fwd Avg Bytes/Bulk', ' Fwd Avg Packets/Bulk', ' Fwd Avg Bulk Rate', ' Bwd Avg Bytes/Bulk', ' Bwd Avg Packets/Bulk', 'Bwd Avg Bulk Rate', 'Subflow Fwd Packets', ' Subflow Fwd Bytes', ' Subflow Bwd Packets', ' Subflow Bwd Bytes', 'Init_Win_bytes_forward', ' Init_Win_bytes_backward', ' act_data_pkt_fwd', ' min_seg_size_forward', 'Active Mean', ' Active Std', ' Active Max', ' Active Min', 'Idle Mean', ' Idle Std', ' Idle Max', ' Idle Min', ' Inbound']\n"
     ]
    }
   ],
   "source": [
    "\n",
    "# Print the current data types of columns\n",
    "print(\"Current data types of columns:\")\n",
    "print(df.dtypes)\n",
    "numerical_columns = df.select_dtypes(include=['int', 'float']).columns.tolist()\n",
    "print(numerical_columns)\n"
   ]
  },
  {
   "cell_type": "code",
   "execution_count": 12,
   "metadata": {},
   "outputs": [],
   "source": [
    "\n",
    "# Drop 'Flow ID' and 'SimillarHTTP' columns\n",
    "df = df.drop(columns=['Flow ID', ' Timestamp', 'SimillarHTTP'])\n"
   ]
  },
  {
   "cell_type": "code",
   "execution_count": 13,
   "metadata": {},
   "outputs": [
    {
     "name": "stdout",
     "output_type": "stream",
     "text": [
      "Columns with 'object' datatype:\n",
      "Index([' Label'], dtype='object')\n",
      "\n",
      "Datatype of these columns:\n",
      " Label    object\n",
      "dtype: object\n"
     ]
    }
   ],
   "source": [
    "\n",
    "# Check for any remaining columns with 'object' datatype\n",
    "object_columns = df.select_dtypes(include=['object']).columns\n",
    "\n",
    "print(\"Columns with 'object' datatype:\")\n",
    "print(object_columns)\n",
    "\n",
    "if len(object_columns) > 0:\n",
    "    print(\"\\nDatatype of these columns:\")\n",
    "    print(df[object_columns].dtypes)\n",
    "else:\n",
    "    print(\"\\nNo columns with 'object' datatype remaining.\")\n",
    "\n",
    "# Save the DataFrame to a CSV file\n",
    "df.to_csv('cleaned_dataset_full.csv', index=False)"
   ]
  }
 ],
 "metadata": {
  "kernelspec": {
   "display_name": "Python 3",
   "language": "python",
   "name": "python3"
  },
  "language_info": {
   "codemirror_mode": {
    "name": "ipython",
    "version": 3
   },
   "file_extension": ".py",
   "mimetype": "text/x-python",
   "name": "python",
   "nbconvert_exporter": "python",
   "pygments_lexer": "ipython3",
   "version": "3.11.5"
  }
 },
 "nbformat": 4,
 "nbformat_minor": 2
}
