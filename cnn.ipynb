{
 "cells": [
  {
   "cell_type": "code",
   "execution_count": 1,
   "metadata": {},
   "outputs": [],
   "source": [
    "import pandas as pd\n",
    "import numpy as np\n",
    "from sklearn.model_selection import train_test_split\n",
    "from sklearn.preprocessing import LabelEncoder, MinMaxScaler\n",
    "from sklearn.impute import SimpleImputer\n",
    "from sklearn.compose import ColumnTransformer\n",
    "from sklearn.preprocessing import StandardScaler, OneHotEncoder\n",
    "from tensorflow.keras.models import Sequential\n",
    "from tensorflow.keras.layers import Conv2D, MaxPooling2D, Flatten, Dense\n",
    "from tensorflow.keras.utils import to_categorical\n",
    "import matplotlib.pyplot as plt\n",
    "from sklearn.metrics import classification_report, confusion_matrix\n",
    "from sklearn.pipeline import Pipeline\n"
   ]
  },
  {
   "cell_type": "code",
   "execution_count": 2,
   "metadata": {},
   "outputs": [
    {
     "name": "stdout",
     "output_type": "stream",
     "text": [
      "<class 'pandas.core.frame.DataFrame'>\n",
      "RangeIndex: 61238 entries, 0 to 61237\n",
      "Data columns (total 84 columns):\n",
      " #   Column                        Non-Null Count  Dtype  \n",
      "---  ------                        --------------  -----  \n",
      " 0    Source IP                    61238 non-null  int64  \n",
      " 1    Source Port                  61238 non-null  int64  \n",
      " 2    Destination IP               61238 non-null  int64  \n",
      " 3    Destination Port             61238 non-null  int64  \n",
      " 4    Protocol                     61238 non-null  int64  \n",
      " 5    Flow Duration                61238 non-null  int64  \n",
      " 6    Total Fwd Packets            61238 non-null  int64  \n",
      " 7    Total Backward Packets       61238 non-null  int64  \n",
      " 8   Total Length of Fwd Packets   61238 non-null  float64\n",
      " 9    Total Length of Bwd Packets  61238 non-null  float64\n",
      " 10   Fwd Packet Length Max        61238 non-null  float64\n",
      " 11   Fwd Packet Length Min        61238 non-null  float64\n",
      " 12   Fwd Packet Length Mean       61238 non-null  float64\n",
      " 13   Fwd Packet Length Std        61238 non-null  float64\n",
      " 14  Bwd Packet Length Max         61238 non-null  float64\n",
      " 15   Bwd Packet Length Min        61238 non-null  float64\n",
      " 16   Bwd Packet Length Mean       61238 non-null  float64\n",
      " 17   Bwd Packet Length Std        61238 non-null  float64\n",
      " 18  Flow Bytes/s                  61199 non-null  float64\n",
      " 19   Flow Packets/s               61238 non-null  float64\n",
      " 20   Flow IAT Mean                61238 non-null  float64\n",
      " 21   Flow IAT Std                 61238 non-null  float64\n",
      " 22   Flow IAT Max                 61238 non-null  float64\n",
      " 23   Flow IAT Min                 61238 non-null  float64\n",
      " 24  Fwd IAT Total                 61238 non-null  float64\n",
      " 25   Fwd IAT Mean                 61238 non-null  float64\n",
      " 26   Fwd IAT Std                  61238 non-null  float64\n",
      " 27   Fwd IAT Max                  61238 non-null  float64\n",
      " 28   Fwd IAT Min                  61238 non-null  float64\n",
      " 29  Bwd IAT Total                 61238 non-null  float64\n",
      " 30   Bwd IAT Mean                 61238 non-null  float64\n",
      " 31   Bwd IAT Std                  61238 non-null  float64\n",
      " 32   Bwd IAT Max                  61238 non-null  float64\n",
      " 33   Bwd IAT Min                  61238 non-null  float64\n",
      " 34  Fwd PSH Flags                 61238 non-null  int64  \n",
      " 35   Bwd PSH Flags                61238 non-null  int64  \n",
      " 36   Fwd URG Flags                61238 non-null  int64  \n",
      " 37   Bwd URG Flags                61238 non-null  int64  \n",
      " 38   Fwd Header Length            61238 non-null  int64  \n",
      " 39   Bwd Header Length            61238 non-null  int64  \n",
      " 40  Fwd Packets/s                 61238 non-null  float64\n",
      " 41   Bwd Packets/s                61238 non-null  float64\n",
      " 42   Min Packet Length            61238 non-null  float64\n",
      " 43   Max Packet Length            61238 non-null  float64\n",
      " 44   Packet Length Mean           61238 non-null  float64\n",
      " 45   Packet Length Std            61238 non-null  float64\n",
      " 46   Packet Length Variance       61238 non-null  float64\n",
      " 47  FIN Flag Count                61238 non-null  int64  \n",
      " 48   SYN Flag Count               61238 non-null  int64  \n",
      " 49   RST Flag Count               61238 non-null  int64  \n",
      " 50   PSH Flag Count               61238 non-null  int64  \n",
      " 51   ACK Flag Count               61238 non-null  int64  \n",
      " 52   URG Flag Count               61238 non-null  int64  \n",
      " 53   CWE Flag Count               61238 non-null  int64  \n",
      " 54   ECE Flag Count               61238 non-null  int64  \n",
      " 55   Down/Up Ratio                61238 non-null  float64\n",
      " 56   Average Packet Size          61238 non-null  float64\n",
      " 57   Avg Fwd Segment Size         61238 non-null  float64\n",
      " 58   Avg Bwd Segment Size         61238 non-null  float64\n",
      " 59   Fwd Header Length.1          61238 non-null  int64  \n",
      " 60  Fwd Avg Bytes/Bulk            61238 non-null  int64  \n",
      " 61   Fwd Avg Packets/Bulk         61238 non-null  int64  \n",
      " 62   Fwd Avg Bulk Rate            61238 non-null  int64  \n",
      " 63   Bwd Avg Bytes/Bulk           61238 non-null  int64  \n",
      " 64   Bwd Avg Packets/Bulk         61238 non-null  int64  \n",
      " 65  Bwd Avg Bulk Rate             61238 non-null  int64  \n",
      " 66  Subflow Fwd Packets           61238 non-null  int64  \n",
      " 67   Subflow Fwd Bytes            61238 non-null  int64  \n",
      " 68   Subflow Bwd Packets          61238 non-null  int64  \n",
      " 69   Subflow Bwd Bytes            61238 non-null  int64  \n",
      " 70  Init_Win_bytes_forward        61238 non-null  int64  \n",
      " 71   Init_Win_bytes_backward      61238 non-null  int64  \n",
      " 72   act_data_pkt_fwd             61238 non-null  int64  \n",
      " 73   min_seg_size_forward         61238 non-null  int64  \n",
      " 74  Active Mean                   61238 non-null  float64\n",
      " 75   Active Std                   61238 non-null  float64\n",
      " 76   Active Max                   61238 non-null  float64\n",
      " 77   Active Min                   61238 non-null  float64\n",
      " 78  Idle Mean                     61238 non-null  float64\n",
      " 79   Idle Std                     61238 non-null  float64\n",
      " 80   Idle Max                     61238 non-null  float64\n",
      " 81   Idle Min                     61238 non-null  float64\n",
      " 82   Inbound                      61238 non-null  int64  \n",
      " 83   Label                        61238 non-null  object \n",
      "dtypes: float64(45), int64(38), object(1)\n",
      "memory usage: 39.2+ MB\n",
      "None\n"
     ]
    }
   ],
   "source": [
    "\n",
    "# Load the dataset\n",
    "cleaned_data = pd.read_csv('cleaned_dataset_full.csv')\n",
    "print(cleaned_data.info())\n"
   ]
  },
  {
   "cell_type": "code",
   "execution_count": 3,
   "metadata": {},
   "outputs": [
    {
     "name": "stdout",
     "output_type": "stream",
     "text": [
      "Label counts:\n",
      " Label\n",
      "BENIGN    51240\n",
      "Syn        9998\n",
      "Name: count, dtype: int64\n"
     ]
    }
   ],
   "source": [
    "\n",
    "# Get the label counts\n",
    "label_counts = cleaned_data[' Label'].value_counts()\n",
    "print(\"Label counts:\")\n",
    "print(label_counts)\n"
   ]
  },
  {
   "cell_type": "code",
   "execution_count": 4,
   "metadata": {},
   "outputs": [],
   "source": [
    "\n",
    "# Separate features and labels\n",
    "X = cleaned_data.drop(' Label', axis=1)\n",
    "y = cleaned_data[' Label']\n"
   ]
  },
  {
   "cell_type": "code",
   "execution_count": 5,
   "metadata": {},
   "outputs": [],
   "source": [
    "\n",
    "# Replace infinite values with NaN\n",
    "X.replace([np.inf, -np.inf], np.nan, inplace=True)\n"
   ]
  },
  {
   "cell_type": "code",
   "execution_count": 6,
   "metadata": {},
   "outputs": [],
   "source": [
    "\n",
    "# Split the dataset into numeric and categorical columns\n",
    "numeric_cols = X.select_dtypes(include=['number']).columns\n",
    "categorical_cols = X.select_dtypes(include=['object']).columns\n",
    "\n",
    "# Create transformers for numeric and categorical columns\n",
    "numeric_transformer = Pipeline(steps=[\n",
    "    ('imputer', SimpleImputer(strategy='mean')),\n",
    "    ('scaler', StandardScaler())\n",
    "])\n",
    "\n",
    "categorical_transformer = Pipeline(steps=[\n",
    "    ('onehot', OneHotEncoder(handle_unknown='ignore'))\n",
    "])\n",
    "\n",
    "# Create column transformer\n",
    "preprocessor = ColumnTransformer(\n",
    "    transformers=[\n",
    "        ('num', numeric_transformer, numeric_cols),\n",
    "        ('cat', categorical_transformer, categorical_cols)\n",
    "    ])\n"
   ]
  },
  {
   "cell_type": "code",
   "execution_count": 7,
   "metadata": {},
   "outputs": [],
   "source": [
    "\n",
    "# Preprocess the data\n",
    "X_preprocessed = preprocessor.fit_transform(X)\n"
   ]
  },
  {
   "cell_type": "code",
   "execution_count": 8,
   "metadata": {},
   "outputs": [],
   "source": [
    "\n",
    "# Normalize the preprocessed features\n",
    "scaler = MinMaxScaler()\n",
    "X_normalized = scaler.fit_transform(X_preprocessed)\n"
   ]
  },
  {
   "cell_type": "code",
   "execution_count": 9,
   "metadata": {},
   "outputs": [],
   "source": [
    "\n",
    "# Reshape the data for CNN\n",
    "feature_count = X_normalized.shape[1]\n",
    "side_length = int(np.ceil(np.sqrt(feature_count)))\n",
    "X_reshaped = np.zeros((X_normalized.shape[0], side_length, side_length, 1))\n",
    "\n",
    "for i in range(X_normalized.shape[0]):\n",
    "    X_reshaped[i, :, :, 0] = np.pad(X_normalized[i], (0, side_length**2 - feature_count)).reshape(side_length, side_length)\n"
   ]
  },
  {
   "cell_type": "code",
   "execution_count": 10,
   "metadata": {},
   "outputs": [],
   "source": [
    "\n",
    "# Encode labels\n",
    "label_encoder = LabelEncoder()\n",
    "y_encoded = label_encoder.fit_transform(y)\n",
    "y_categorical = to_categorical(y_encoded)\n",
    "\n",
    "# Split the data\n",
    "X_train, X_test, y_train, y_test = train_test_split(X_reshaped, y_categorical, test_size=0.2, random_state=42)\n"
   ]
  },
  {
   "cell_type": "code",
   "execution_count": 11,
   "metadata": {},
   "outputs": [
    {
     "name": "stderr",
     "output_type": "stream",
     "text": [
      "c:\\Users\\Chaitali\\anaconda3\\envs\\conda\\lib\\site-packages\\keras\\src\\layers\\convolutional\\base_conv.py:99: UserWarning: Do not pass an `input_shape`/`input_dim` argument to a layer. When using Sequential models, prefer using an `Input(shape)` object as the first layer in the model instead.\n",
      "  super().__init__(\n"
     ]
    }
   ],
   "source": [
    "\n",
    "# Define the CNN model\n",
    "model = Sequential([\n",
    "    Conv2D(32, (3, 3), activation='relu', input_shape=(side_length, side_length, 1)),\n",
    "    MaxPooling2D(2, 2),\n",
    "    Conv2D(64, (3, 3), activation='relu'),\n",
    "    MaxPooling2D(2, 2),\n",
    "    Flatten(),\n",
    "    Dense(64, activation='relu'),\n",
    "    Dense(2, activation='softmax')  # 2 classes: normal and attack\n",
    "])\n"
   ]
  },
  {
   "cell_type": "code",
   "execution_count": 12,
   "metadata": {},
   "outputs": [],
   "source": [
    "\n",
    "# Compile the model\n",
    "model.compile(optimizer='adam', loss='categorical_crossentropy', metrics=['accuracy'])\n"
   ]
  },
  {
   "cell_type": "code",
   "execution_count": 13,
   "metadata": {},
   "outputs": [
    {
     "name": "stdout",
     "output_type": "stream",
     "text": [
      "Epoch 1/10\n",
      "\u001b[1m1531/1531\u001b[0m \u001b[32m━━━━━━━━━━━━━━━━━━━━\u001b[0m\u001b[37m\u001b[0m \u001b[1m6s\u001b[0m 3ms/step - accuracy: 0.9680 - loss: 0.0842 - val_accuracy: 0.9995 - val_loss: 0.0044\n",
      "Epoch 2/10\n",
      "\u001b[1m1531/1531\u001b[0m \u001b[32m━━━━━━━━━━━━━━━━━━━━\u001b[0m\u001b[37m\u001b[0m \u001b[1m4s\u001b[0m 3ms/step - accuracy: 0.9990 - loss: 0.0046 - val_accuracy: 0.9998 - val_loss: 0.0020\n",
      "Epoch 3/10\n",
      "\u001b[1m1531/1531\u001b[0m \u001b[32m━━━━━━━━━━━━━━━━━━━━\u001b[0m\u001b[37m\u001b[0m \u001b[1m5s\u001b[0m 3ms/step - accuracy: 0.9991 - loss: 0.0026 - val_accuracy: 0.9998 - val_loss: 0.0018\n",
      "Epoch 4/10\n",
      "\u001b[1m1531/1531\u001b[0m \u001b[32m━━━━━━━━━━━━━━━━━━━━\u001b[0m\u001b[37m\u001b[0m \u001b[1m4s\u001b[0m 3ms/step - accuracy: 0.9995 - loss: 0.0020 - val_accuracy: 0.9998 - val_loss: 0.0015\n",
      "Epoch 5/10\n",
      "\u001b[1m1531/1531\u001b[0m \u001b[32m━━━━━━━━━━━━━━━━━━━━\u001b[0m\u001b[37m\u001b[0m \u001b[1m4s\u001b[0m 3ms/step - accuracy: 0.9998 - loss: 0.0013 - val_accuracy: 0.9998 - val_loss: 0.0016\n",
      "Epoch 6/10\n",
      "\u001b[1m1531/1531\u001b[0m \u001b[32m━━━━━━━━━━━━━━━━━━━━\u001b[0m\u001b[37m\u001b[0m \u001b[1m4s\u001b[0m 3ms/step - accuracy: 0.9996 - loss: 0.0026 - val_accuracy: 0.9998 - val_loss: 0.0013\n",
      "Epoch 7/10\n",
      "\u001b[1m1531/1531\u001b[0m \u001b[32m━━━━━━━━━━━━━━━━━━━━\u001b[0m\u001b[37m\u001b[0m \u001b[1m4s\u001b[0m 3ms/step - accuracy: 0.9996 - loss: 0.0013 - val_accuracy: 0.9998 - val_loss: 0.0016\n",
      "Epoch 8/10\n",
      "\u001b[1m1531/1531\u001b[0m \u001b[32m━━━━━━━━━━━━━━━━━━━━\u001b[0m\u001b[37m\u001b[0m \u001b[1m5s\u001b[0m 3ms/step - accuracy: 0.9997 - loss: 0.0016 - val_accuracy: 0.9998 - val_loss: 0.0015\n",
      "Epoch 9/10\n",
      "\u001b[1m1531/1531\u001b[0m \u001b[32m━━━━━━━━━━━━━━━━━━━━\u001b[0m\u001b[37m\u001b[0m \u001b[1m5s\u001b[0m 3ms/step - accuracy: 0.9997 - loss: 0.0012 - val_accuracy: 0.9998 - val_loss: 0.0019\n",
      "Epoch 10/10\n",
      "\u001b[1m1531/1531\u001b[0m \u001b[32m━━━━━━━━━━━━━━━━━━━━\u001b[0m\u001b[37m\u001b[0m \u001b[1m5s\u001b[0m 3ms/step - accuracy: 0.9999 - loss: 6.4403e-04 - val_accuracy: 0.9998 - val_loss: 0.0015\n"
     ]
    }
   ],
   "source": [
    "\n",
    "# Train the model\n",
    "history = model.fit(X_train, y_train, epochs=10, batch_size=32, validation_data=(X_test, y_test))\n"
   ]
  },
  {
   "cell_type": "code",
   "execution_count": 14,
   "metadata": {},
   "outputs": [
    {
     "name": "stdout",
     "output_type": "stream",
     "text": [
      "\u001b[1m383/383\u001b[0m \u001b[32m━━━━━━━━━━━━━━━━━━━━\u001b[0m\u001b[37m\u001b[0m \u001b[1m1s\u001b[0m 2ms/step - accuracy: 0.9999 - loss: 0.0014\n",
      "Test accuracy: 0.9998366832733154\n"
     ]
    }
   ],
   "source": [
    "\n",
    "# Evaluate the model\n",
    "test_loss, test_accuracy = model.evaluate(X_test, y_test)\n",
    "print(f\"Test accuracy: {test_accuracy}\")\n"
   ]
  },
  {
   "cell_type": "code",
   "execution_count": 15,
   "metadata": {},
   "outputs": [
    {
     "name": "stdout",
     "output_type": "stream",
     "text": [
      "\u001b[1m383/383\u001b[0m \u001b[32m━━━━━━━━━━━━━━━━━━━━\u001b[0m\u001b[37m\u001b[0m \u001b[1m1s\u001b[0m 2ms/step\n"
     ]
    }
   ],
   "source": [
    "\n",
    "# Make predictions\n",
    "y_pred = model.predict(X_test)\n",
    "y_pred_classes = np.argmax(y_pred, axis=1)\n",
    "y_true = np.argmax(y_test, axis=1)\n"
   ]
  },
  {
   "cell_type": "code",
   "execution_count": 16,
   "metadata": {},
   "outputs": [
    {
     "name": "stdout",
     "output_type": "stream",
     "text": [
      "Classification Report:\n",
      "              precision    recall  f1-score   support\n",
      "\n",
      "      BENIGN       1.00      1.00      1.00     10198\n",
      "         Syn       1.00      1.00      1.00      2050\n",
      "\n",
      "    accuracy                           1.00     12248\n",
      "   macro avg       1.00      1.00      1.00     12248\n",
      "weighted avg       1.00      1.00      1.00     12248\n",
      "\n"
     ]
    }
   ],
   "source": [
    "\n",
    "# Print classification report\n",
    "print(\"Classification Report:\")\n",
    "print(classification_report(y_true, y_pred_classes, target_names=label_encoder.classes_))\n"
   ]
  },
  {
   "cell_type": "code",
   "execution_count": 17,
   "metadata": {},
   "outputs": [
    {
     "ename": "NameError",
     "evalue": "name 'sns' is not defined",
     "output_type": "error",
     "traceback": [
      "\u001b[1;31m---------------------------------------------------------------------------\u001b[0m",
      "\u001b[1;31mNameError\u001b[0m                                 Traceback (most recent call last)",
      "Cell \u001b[1;32mIn[17], line 4\u001b[0m\n\u001b[0;32m      2\u001b[0m cm \u001b[38;5;241m=\u001b[39m confusion_matrix(y_true, y_pred_classes)\n\u001b[0;32m      3\u001b[0m plt\u001b[38;5;241m.\u001b[39mfigure(figsize\u001b[38;5;241m=\u001b[39m(\u001b[38;5;241m10\u001b[39m, \u001b[38;5;241m8\u001b[39m))\n\u001b[1;32m----> 4\u001b[0m \u001b[43msns\u001b[49m\u001b[38;5;241m.\u001b[39mheatmap(cm, annot\u001b[38;5;241m=\u001b[39m\u001b[38;5;28;01mTrue\u001b[39;00m, fmt\u001b[38;5;241m=\u001b[39m\u001b[38;5;124m'\u001b[39m\u001b[38;5;124md\u001b[39m\u001b[38;5;124m'\u001b[39m, cmap\u001b[38;5;241m=\u001b[39m\u001b[38;5;124m'\u001b[39m\u001b[38;5;124mBlues\u001b[39m\u001b[38;5;124m'\u001b[39m, xticklabels\u001b[38;5;241m=\u001b[39mlabel_encoder\u001b[38;5;241m.\u001b[39mclasses_, yticklabels\u001b[38;5;241m=\u001b[39mlabel_encoder\u001b[38;5;241m.\u001b[39mclasses_)\n\u001b[0;32m      5\u001b[0m plt\u001b[38;5;241m.\u001b[39mtitle(\u001b[38;5;124m'\u001b[39m\u001b[38;5;124mConfusion Matrix\u001b[39m\u001b[38;5;124m'\u001b[39m)\n\u001b[0;32m      6\u001b[0m plt\u001b[38;5;241m.\u001b[39mxlabel(\u001b[38;5;124m'\u001b[39m\u001b[38;5;124mPredicted\u001b[39m\u001b[38;5;124m'\u001b[39m)\n",
      "\u001b[1;31mNameError\u001b[0m: name 'sns' is not defined"
     ]
    },
    {
     "data": {
      "text/plain": [
       "<Figure size 1000x800 with 0 Axes>"
      ]
     },
     "metadata": {},
     "output_type": "display_data"
    }
   ],
   "source": [
    "\n",
    "# Plot confusion matrix\n",
    "cm = confusion_matrix(y_true, y_pred_classes)\n",
    "plt.figure(figsize=(10, 8))\n",
    "sns.heatmap(cm, annot=True, fmt='d', cmap='Blues', xticklabels=label_encoder.classes_, yticklabels=label_encoder.classes_)\n",
    "plt.title('Confusion Matrix')\n",
    "plt.xlabel('Predicted')\n",
    "plt.ylabel('True')\n",
    "plt.show()\n"
   ]
  },
  {
   "cell_type": "code",
   "execution_count": null,
   "metadata": {},
   "outputs": [],
   "source": [
    "\n",
    "# Plot training history\n",
    "plt.figure(figsize=(10, 5))\n"
   ]
  },
  {
   "cell_type": "code",
   "execution_count": null,
   "metadata": {},
   "outputs": [],
   "source": [
    "\n",
    "# Plot training & validation accuracy values\n",
    "plt.subplot(1, 2, 1)\n",
    "plt.plot(history.history['accuracy'])\n",
    "plt.plot(history.history['val_accuracy'])\n",
    "plt.title('Model accuracy')\n",
    "plt.ylabel('Accuracy')\n",
    "plt.xlabel('Epoch')\n",
    "plt.legend(['Train', 'Test'], loc='upper left')\n"
   ]
  },
  {
   "cell_type": "code",
   "execution_count": null,
   "metadata": {},
   "outputs": [],
   "source": [
    "\n",
    "# Plot training & validation loss values\n",
    "plt.subplot(1, 2, 2)\n",
    "plt.plot(history.history['loss'])\n",
    "plt.plot(history.history['val_loss'])\n",
    "plt.title('Model loss')\n",
    "plt.ylabel('Loss')\n",
    "plt.xlabel('Epoch')\n",
    "plt.legend(['Train', 'Test'], loc='upper left')\n",
    "\n",
    "plt.tight_layout()\n",
    "plt.show()"
   ]
  }
 ],
 "metadata": {
  "kernelspec": {
   "display_name": "base",
   "language": "python",
   "name": "python3"
  },
  "language_info": {
   "codemirror_mode": {
    "name": "ipython",
    "version": 3
   },
   "file_extension": ".py",
   "mimetype": "text/x-python",
   "name": "python",
   "nbconvert_exporter": "python",
   "pygments_lexer": "ipython3",
   "version": "3.10.13"
  }
 },
 "nbformat": 4,
 "nbformat_minor": 2
}
