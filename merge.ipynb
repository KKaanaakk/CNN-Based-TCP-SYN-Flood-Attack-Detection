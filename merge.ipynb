{
 "cells": [
  {
   "cell_type": "code",
   "execution_count": 1,
   "metadata": {},
   "outputs": [],
   "source": [
    "import pandas as pd\n"
   ]
  },
  {
   "cell_type": "code",
   "execution_count": 2,
   "metadata": {},
   "outputs": [
    {
     "name": "stdout",
     "output_type": "stream",
     "text": [
      "Shape of benign_packets.csv: (55644, 88)\n",
      "Shape of syn_packets.csv: (55655, 88)\n"
     ]
    }
   ],
   "source": [
    "\n",
    "# Load the benign packets dataset\n",
    "benign_packets_df = pd.read_csv('benign_packets.csv')\n",
    "print(\"Shape of benign_packets.csv:\", benign_packets_df.shape)\n",
    "# Load the syn packets dataset\n",
    "syn_packets_df = pd.read_csv('syn_packets.csv')\n",
    "print(\"Shape of syn_packets.csv:\", syn_packets_df.shape)\n"
   ]
  },
  {
   "cell_type": "code",
   "execution_count": 3,
   "metadata": {},
   "outputs": [],
   "source": [
    "# Number of BENIGN packets\n",
    "num_benign_packets = benign_packets_df.shape[0]\n"
   ]
  },
  {
   "cell_type": "code",
   "execution_count": 4,
   "metadata": {},
   "outputs": [
    {
     "name": "stdout",
     "output_type": "stream",
     "text": [
      "Shape of merged_benign_syn_new_df: (111299, 88)\n"
     ]
    }
   ],
   "source": [
    "# Sample the SYN packets to match the number of BENIGN packets (55,644)\n",
    "# sampled_syn_packets_df = syn_packets_df.sample(n=num_benign_packets, random_state=1)\n",
    "# print(\"Shape of sampled_syn_packets_df:\", sampled_syn_packets_df.shape)\n",
    "# Merge the BENIGN and sampled SYN packets\n",
    "merged_benign_syn_new_df = pd.concat([benign_packets_df, syn_packets_df], axis=0, ignore_index=True)\n",
    "print(\"Shape of merged_benign_syn_new_df:\", merged_benign_syn_new_df.shape)\n"
   ]
  },
  {
   "cell_type": "code",
   "execution_count": 5,
   "metadata": {},
   "outputs": [
    {
     "name": "stdout",
     "output_type": "stream",
     "text": [
      "Merged BENIGN and SYN packets saved to 'merged_benign_syn_new_df.csv'\n"
     ]
    }
   ],
   "source": [
    "# Save the merged dataset to a new CSV file\n",
    "merged_benign_syn_new_df.to_csv('merged_benign_syn_new.csv', index=False)\n",
    "print(\"Merged BENIGN and SYN packets saved to 'merged_benign_syn_new_df.csv'\")\n"
   ]
  },
  {
   "cell_type": "code",
   "execution_count": 6,
   "metadata": {},
   "outputs": [
    {
     "name": "stdout",
     "output_type": "stream",
     "text": [
      "Dataset Information:\n",
      "<class 'pandas.core.frame.DataFrame'>\n",
      "RangeIndex: 111299 entries, 0 to 111298\n",
      "Data columns (total 88 columns):\n",
      " #   Column                        Non-Null Count   Dtype  \n",
      "---  ------                        --------------   -----  \n",
      " 0   Unnamed: 0                    111299 non-null  int64  \n",
      " 1   Flow ID                       111299 non-null  object \n",
      " 2    Source IP                    111299 non-null  object \n",
      " 3    Source Port                  111299 non-null  int64  \n",
      " 4    Destination IP               111299 non-null  object \n",
      " 5    Destination Port             111299 non-null  int64  \n",
      " 6    Protocol                     111299 non-null  int64  \n",
      " 7    Timestamp                    111299 non-null  object \n",
      " 8    Flow Duration                111299 non-null  int64  \n",
      " 9    Total Fwd Packets            111299 non-null  int64  \n",
      " 10   Total Backward Packets       111299 non-null  int64  \n",
      " 11  Total Length of Fwd Packets   111299 non-null  float64\n",
      " 12   Total Length of Bwd Packets  111299 non-null  float64\n",
      " 13   Fwd Packet Length Max        111299 non-null  float64\n",
      " 14   Fwd Packet Length Min        111299 non-null  float64\n",
      " 15   Fwd Packet Length Mean       111299 non-null  float64\n",
      " 16   Fwd Packet Length Std        111299 non-null  float64\n",
      " 17  Bwd Packet Length Max         111299 non-null  float64\n",
      " 18   Bwd Packet Length Min        111299 non-null  float64\n",
      " 19   Bwd Packet Length Mean       111299 non-null  float64\n",
      " 20   Bwd Packet Length Std        111299 non-null  float64\n",
      " 21  Flow Bytes/s                  111256 non-null  float64\n",
      " 22   Flow Packets/s               111299 non-null  float64\n",
      " 23   Flow IAT Mean                111299 non-null  float64\n",
      " 24   Flow IAT Std                 111299 non-null  float64\n",
      " 25   Flow IAT Max                 111299 non-null  float64\n",
      " 26   Flow IAT Min                 111299 non-null  float64\n",
      " 27  Fwd IAT Total                 111299 non-null  float64\n",
      " 28   Fwd IAT Mean                 111299 non-null  float64\n",
      " 29   Fwd IAT Std                  111299 non-null  float64\n",
      " 30   Fwd IAT Max                  111299 non-null  float64\n",
      " 31   Fwd IAT Min                  111299 non-null  float64\n",
      " 32  Bwd IAT Total                 111299 non-null  float64\n",
      " 33   Bwd IAT Mean                 111299 non-null  float64\n",
      " 34   Bwd IAT Std                  111299 non-null  float64\n",
      " 35   Bwd IAT Max                  111299 non-null  float64\n",
      " 36   Bwd IAT Min                  111299 non-null  float64\n",
      " 37  Fwd PSH Flags                 111299 non-null  int64  \n",
      " 38   Bwd PSH Flags                111299 non-null  int64  \n",
      " 39   Fwd URG Flags                111299 non-null  int64  \n",
      " 40   Bwd URG Flags                111299 non-null  int64  \n",
      " 41   Fwd Header Length            111299 non-null  int64  \n",
      " 42   Bwd Header Length            111299 non-null  int64  \n",
      " 43  Fwd Packets/s                 111299 non-null  float64\n",
      " 44   Bwd Packets/s                111299 non-null  float64\n",
      " 45   Min Packet Length            111299 non-null  float64\n",
      " 46   Max Packet Length            111299 non-null  float64\n",
      " 47   Packet Length Mean           111299 non-null  float64\n",
      " 48   Packet Length Std            111299 non-null  float64\n",
      " 49   Packet Length Variance       111299 non-null  float64\n",
      " 50  FIN Flag Count                111299 non-null  int64  \n",
      " 51   SYN Flag Count               111299 non-null  int64  \n",
      " 52   RST Flag Count               111299 non-null  int64  \n",
      " 53   PSH Flag Count               111299 non-null  int64  \n",
      " 54   ACK Flag Count               111299 non-null  int64  \n",
      " 55   URG Flag Count               111299 non-null  int64  \n",
      " 56   CWE Flag Count               111299 non-null  int64  \n",
      " 57   ECE Flag Count               111299 non-null  int64  \n",
      " 58   Down/Up Ratio                111299 non-null  float64\n",
      " 59   Average Packet Size          111299 non-null  float64\n",
      " 60   Avg Fwd Segment Size         111299 non-null  float64\n",
      " 61   Avg Bwd Segment Size         111299 non-null  float64\n",
      " 62   Fwd Header Length.1          111299 non-null  int64  \n",
      " 63  Fwd Avg Bytes/Bulk            111299 non-null  int64  \n",
      " 64   Fwd Avg Packets/Bulk         111299 non-null  int64  \n",
      " 65   Fwd Avg Bulk Rate            111299 non-null  int64  \n",
      " 66   Bwd Avg Bytes/Bulk           111299 non-null  int64  \n",
      " 67   Bwd Avg Packets/Bulk         111299 non-null  int64  \n",
      " 68  Bwd Avg Bulk Rate             111299 non-null  int64  \n",
      " 69  Subflow Fwd Packets           111299 non-null  int64  \n",
      " 70   Subflow Fwd Bytes            111299 non-null  int64  \n",
      " 71   Subflow Bwd Packets          111299 non-null  int64  \n",
      " 72   Subflow Bwd Bytes            111299 non-null  int64  \n",
      " 73  Init_Win_bytes_forward        111299 non-null  int64  \n",
      " 74   Init_Win_bytes_backward      111299 non-null  int64  \n",
      " 75   act_data_pkt_fwd             111299 non-null  int64  \n",
      " 76   min_seg_size_forward         111299 non-null  int64  \n",
      " 77  Active Mean                   111299 non-null  float64\n",
      " 78   Active Std                   111299 non-null  float64\n",
      " 79   Active Max                   111299 non-null  float64\n",
      " 80   Active Min                   111299 non-null  float64\n",
      " 81  Idle Mean                     111299 non-null  float64\n",
      " 82   Idle Std                     111299 non-null  float64\n",
      " 83   Idle Max                     111299 non-null  float64\n",
      " 84   Idle Min                     111299 non-null  float64\n",
      " 85  SimillarHTTP                  111299 non-null  object \n",
      " 86   Inbound                      111299 non-null  int64  \n",
      " 87   Label                        111299 non-null  object \n",
      "dtypes: float64(45), int64(37), object(6)\n",
      "memory usage: 74.7+ MB\n",
      "None\n"
     ]
    }
   ],
   "source": [
    "# Data Understanding\n",
    "print(\"Dataset Information:\")\n",
    "print(merged_benign_syn_new_df.info())"
   ]
  }
 ],
 "metadata": {
  "kernelspec": {
   "display_name": "Python 3",
   "language": "python",
   "name": "python3"
  },
  "language_info": {
   "codemirror_mode": {
    "name": "ipython",
    "version": 3
   },
   "file_extension": ".py",
   "mimetype": "text/x-python",
   "name": "python",
   "nbconvert_exporter": "python",
   "pygments_lexer": "ipython3",
   "version": "3.11.5"
  }
 },
 "nbformat": 4,
 "nbformat_minor": 2
}
